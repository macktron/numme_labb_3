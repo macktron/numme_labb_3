{
 "cells": [
  {
   "cell_type": "code",
   "execution_count": 81,
   "metadata": {},
   "outputs": [],
   "source": [
    "import numpy as np\n",
    "import matplotlib.pyplot as plt"
   ]
  },
  {
   "attachments": {},
   "cell_type": "markdown",
   "id": "aa400d78",
   "metadata": {},
   "source": [
    "# Uppgift 1"
   ]
  },
  {
   "cell_type": "code",
   "execution_count": 82,
   "id": "8a9b8a09",
   "metadata": {},
   "outputs": [],
   "source": [
    "def trapezoidal_integration(f, a, b, n):\n",
    "    h = (b-a)/n\n",
    "    x = np.linspace(a, b, n+1)\n",
    "    y = f(x)\n",
    "    return x, y, h*(np.sum(y) - (y[0] + y[-1])/2)"
   ]
  },
  {
   "cell_type": "code",
   "execution_count": 83,
   "id": "c5a8f3e0",
   "metadata": {},
   "outputs": [],
   "source": [
    "def monte_carlo_integration(f, a, b, n):\n",
    "    x = np.random.uniform(a, b, n)\n",
    "    y = f(x)\n",
    "    return x, y, (b-a)*np.mean(y) #volume 1d = b-a "
   ]
  },
  {
   "cell_type": "code",
   "execution_count": 84,
   "id": "0068a928",
   "metadata": {},
   "outputs": [],
   "source": [
    "def f(x):\n",
    "    return (x+1)**-(1/2)"
   ]
  },
  {
   "cell_type": "code",
   "execution_count": 85,
   "id": "beda6d4e",
   "metadata": {},
   "outputs": [],
   "source": [
    "def two_plots(x1,y1,e1,x2,y2,e2):\n",
    "    plt.subplot(1, 2, 1)\n",
    "    plt.plot(x1,y1)\n",
    "    plt.axhline(y=e1, color='r', linestyle='-')\n",
    "    plt.text(0.6,e1+0.01, 'I = ' + str(round(e1,5)), color='red')\n",
    "    plt.xlabel('x')\n",
    "    plt.title('Trapezoidal Integration')\n",
    "    \n",
    "    plt.subplot(1, 2, 2)\n",
    "    plt.plot(x2,y2)\n",
    "    plt.axhline(y=e2, color='r', linestyle='-')\n",
    "    plt.text(0.6,e2+0.01, 'I = ' + str(round(e2,5)), color='red')\n",
    "    plt.xlabel('x')\n",
    "    plt.title('Monte Carlo Integration')"
   ]
  },
  {
   "cell_type": "code",
   "execution_count": 86,
   "id": "eeaae904",
   "metadata": {},
   "outputs": [
    {
     "data": {
      "image/png": "[encoded data removed]",
      "text/plain": [
       "<Figure size 432x288 with 2 Axes>"
      ]
     },
     "metadata": {
      "needs_background": "light"
     },
     "output_type": "display_data"
    }
   ],
   "source": [
    "upper_bound = 1\n",
    "lower_bound = 0\n",
    "number_of_points = 100\n",
    "\n",
    "\n",
    "a = trapezoidal_integration(f, lower_bound, upper_bound, number_of_points)\n",
    "b = monte_carlo_integration(f, lower_bound, upper_bound, number_of_points)\n",
    "\n",
    "two_plots(*(a+b))\n"
   ]
  },
  {
   "attachments": {},
   "cell_type": "markdown",
   "id": "d5386eb8",
   "metadata": {},
   "source": [
    "# Uppgift 2"
   ]
  },
  {
   "cell_type": "code",
   "execution_count": 87,
   "id": "11c3e534",
   "metadata": {},
   "outputs": [],
   "source": [
    "\n",
    "def S_i(T,var,K,s,N):\n",
    "    return s*np.exp(-var**2*T/2 + var*np.random.normal(0,T,N))\n",
    "\n",
    "\n",
    "\n",
    "def BS_zero_intr(T,var,K,s,N):\n",
    "    return np.sum(max(S_i(T,var,K,s,N)-K,0))/N"
   ]
  },
  {
   "cell_type": "code",
   "execution_count": 88,
   "id": "a44b17d7",
   "metadata": {},
   "outputs": [
    {
     "ename": "ValueError",
     "evalue": "The truth value of an array with more than one element is ambiguous. Use a.any() or a.all()",
     "output_type": "error",
     "traceback": [
      "\u001b[0;31m---------------------------------------------------------------------------\u001b[0m",
      "\u001b[0;31mValueError\u001b[0m                                Traceback (most recent call last)",
      "\u001b[1;32m/Users/markusswegmark/Desktop/Git Repos/numme_labb_3/Untitled.ipynb Cell 10\u001b[0m in \u001b[0;36m<cell line: 6>\u001b[0;34m()\u001b[0m\n\u001b[1;32m      <a href='vscode-notebook-cell:/Users/markusswegmark/Desktop/Git%20Repos/numme_labb_3/Untitled.ipynb#X20sZmlsZQ%3D%3D?line=2'>3</a>\u001b[0m std_dev \u001b[39m=\u001b[39m \u001b[39m0.2\u001b[39m\n\u001b[1;32m      <a href='vscode-notebook-cell:/Users/markusswegmark/Desktop/Git%20Repos/numme_labb_3/Untitled.ipynb#X20sZmlsZQ%3D%3D?line=3'>4</a>\u001b[0m s \u001b[39m=\u001b[39m K\n\u001b[0;32m----> <a href='vscode-notebook-cell:/Users/markusswegmark/Desktop/Git%20Repos/numme_labb_3/Untitled.ipynb#X20sZmlsZQ%3D%3D?line=5'>6</a>\u001b[0m \u001b[39mprint\u001b[39m(BS_zero_intr(T,std_dev,K,s,\u001b[39m1000\u001b[39;49m))\n",
      "\u001b[1;32m/Users/markusswegmark/Desktop/Git Repos/numme_labb_3/Untitled.ipynb Cell 10\u001b[0m in \u001b[0;36mBS_zero_intr\u001b[0;34m(T, var, K, s, N)\u001b[0m\n\u001b[1;32m      <a href='vscode-notebook-cell:/Users/markusswegmark/Desktop/Git%20Repos/numme_labb_3/Untitled.ipynb#X20sZmlsZQ%3D%3D?line=5'>6</a>\u001b[0m \u001b[39mdef\u001b[39;00m \u001b[39mBS_zero_intr\u001b[39m(T,var,K,s,N):\n\u001b[0;32m----> <a href='vscode-notebook-cell:/Users/markusswegmark/Desktop/Git%20Repos/numme_labb_3/Untitled.ipynb#X20sZmlsZQ%3D%3D?line=6'>7</a>\u001b[0m     \u001b[39mreturn\u001b[39;00m np\u001b[39m.\u001b[39msum(\u001b[39mmax\u001b[39;49m(S_i(T,var,K,s,N)\u001b[39m-\u001b[39;49mK,\u001b[39m0\u001b[39;49m))\u001b[39m/\u001b[39mN\n",
      "\u001b[0;31mValueError\u001b[0m: The truth value of an array with more than one element is ambiguous. Use a.any() or a.all()"
     ]
    }
   ],
   "source": [
    "T = 1\n",
    "K = 1.22\n",
    "std_dev = 0.2\n",
    "s = K\n",
    "\n",
    "print(BS_zero_intr(T,std_dev,K,s,1000))"
   ]
  },
  {
   "attachments": {},
   "cell_type": "markdown",
   "id": "3644950d",
   "metadata": {},
   "source": [
    "# Uppgift 3"
   ]
  },
  {
   "cell_type": "code",
   "execution_count": 106,
   "id": "6e6009df",
   "metadata": {},
   "outputs": [],
   "source": [
    "def S_i(T,std_dev,s,N):\n",
    "    S = np.zeros((len(s),N))\n",
    "    for i in range(len(s)):\n",
    "        S[i,:] = s[i]*np.exp(-std_dev**2*T/2 + std_dev*np.random.normal(0,T,N))\n",
    "    return S\n",
    "\n",
    "def vector_max(S):\n",
    "    vec = np.zeros((1,len(S[0])))\n",
    "    for i in range(len(S[0])):\n",
    "        vec[i] = np.max(S[:,i])\n",
    "    return vec\n",
    "\n",
    "def BS_rainbow(T,std_dev,K,s_0,N):\n",
    "    \n",
    "    S_T = S_i(T,std_dev,s_0,N) #get matrix of S values\n",
    "    \n",
    "    S_T_max = vector_max(S_T) #get max of each column\n",
    "\n",
    "    return np.sum(max(S_T_max - K,0))/N**len(s_0)\n"
   ]
  },
  {
   "cell_type": "code",
   "execution_count": 107,
   "id": "bba1fbc1",
   "metadata": {},
   "outputs": [
    {
     "ename": "IndexError",
     "evalue": "index 1 is out of bounds for axis 0 with size 1",
     "output_type": "error",
     "traceback": [
      "\u001b[0;31m---------------------------------------------------------------------------\u001b[0m",
      "\u001b[0;31mIndexError\u001b[0m                                Traceback (most recent call last)",
      "\u001b[1;32m/Users/markusswegmark/Desktop/Git Repos/numme_labb_3/Untitled.ipynb Cell 13\u001b[0m in \u001b[0;36m<cell line: 7>\u001b[0;34m()\u001b[0m\n\u001b[1;32m      <a href='vscode-notebook-cell:/Users/markusswegmark/Desktop/Git%20Repos/numme_labb_3/Untitled.ipynb#X23sZmlsZQ%3D%3D?line=3'>4</a>\u001b[0m s_0 \u001b[39m=\u001b[39m [\u001b[39m1\u001b[39m,\u001b[39m1\u001b[39m]\n\u001b[1;32m      <a href='vscode-notebook-cell:/Users/markusswegmark/Desktop/Git%20Repos/numme_labb_3/Untitled.ipynb#X23sZmlsZQ%3D%3D?line=4'>5</a>\u001b[0m N \u001b[39m=\u001b[39m \u001b[39m3\u001b[39m\n\u001b[0;32m----> <a href='vscode-notebook-cell:/Users/markusswegmark/Desktop/Git%20Repos/numme_labb_3/Untitled.ipynb#X23sZmlsZQ%3D%3D?line=6'>7</a>\u001b[0m a \u001b[39m=\u001b[39m BS_rainbow(T,std_dev,K,s_0,N)\n",
      "\u001b[1;32m/Users/markusswegmark/Desktop/Git Repos/numme_labb_3/Untitled.ipynb Cell 13\u001b[0m in \u001b[0;36mBS_rainbow\u001b[0;34m(T, std_dev, K, s_0, N)\u001b[0m\n\u001b[1;32m     <a href='vscode-notebook-cell:/Users/markusswegmark/Desktop/Git%20Repos/numme_labb_3/Untitled.ipynb#X23sZmlsZQ%3D%3D?line=12'>13</a>\u001b[0m \u001b[39mdef\u001b[39;00m \u001b[39mBS_rainbow\u001b[39m(T,std_dev,K,s_0,N):\n\u001b[1;32m     <a href='vscode-notebook-cell:/Users/markusswegmark/Desktop/Git%20Repos/numme_labb_3/Untitled.ipynb#X23sZmlsZQ%3D%3D?line=14'>15</a>\u001b[0m     S_T \u001b[39m=\u001b[39m S_i(T,std_dev,s_0,N) \u001b[39m#get matrix of S values\u001b[39;00m\n\u001b[0;32m---> <a href='vscode-notebook-cell:/Users/markusswegmark/Desktop/Git%20Repos/numme_labb_3/Untitled.ipynb#X23sZmlsZQ%3D%3D?line=16'>17</a>\u001b[0m     S_T_max \u001b[39m=\u001b[39m vector_max(S_T) \u001b[39m#get max of each column\u001b[39;00m\n\u001b[1;32m     <a href='vscode-notebook-cell:/Users/markusswegmark/Desktop/Git%20Repos/numme_labb_3/Untitled.ipynb#X23sZmlsZQ%3D%3D?line=18'>19</a>\u001b[0m     \u001b[39mreturn\u001b[39;00m np\u001b[39m.\u001b[39msum(\u001b[39mmax\u001b[39m(S_T_max \u001b[39m-\u001b[39m K,\u001b[39m0\u001b[39m))\u001b[39m/\u001b[39mN\u001b[39m*\u001b[39m\u001b[39m*\u001b[39m\u001b[39mlen\u001b[39m(s_0)\n",
      "\u001b[1;32m/Users/markusswegmark/Desktop/Git Repos/numme_labb_3/Untitled.ipynb Cell 13\u001b[0m in \u001b[0;36mvector_max\u001b[0;34m(S)\u001b[0m\n\u001b[1;32m      <a href='vscode-notebook-cell:/Users/markusswegmark/Desktop/Git%20Repos/numme_labb_3/Untitled.ipynb#X23sZmlsZQ%3D%3D?line=7'>8</a>\u001b[0m vec \u001b[39m=\u001b[39m np\u001b[39m.\u001b[39mzeros((\u001b[39m1\u001b[39m,\u001b[39mlen\u001b[39m(S[\u001b[39m0\u001b[39m])))\n\u001b[1;32m      <a href='vscode-notebook-cell:/Users/markusswegmark/Desktop/Git%20Repos/numme_labb_3/Untitled.ipynb#X23sZmlsZQ%3D%3D?line=8'>9</a>\u001b[0m \u001b[39mfor\u001b[39;00m i \u001b[39min\u001b[39;00m \u001b[39mrange\u001b[39m(\u001b[39mlen\u001b[39m(S[\u001b[39m0\u001b[39m])):\n\u001b[0;32m---> <a href='vscode-notebook-cell:/Users/markusswegmark/Desktop/Git%20Repos/numme_labb_3/Untitled.ipynb#X23sZmlsZQ%3D%3D?line=9'>10</a>\u001b[0m     vec[i] \u001b[39m=\u001b[39m np\u001b[39m.\u001b[39mmax(S[:,i])\n\u001b[1;32m     <a href='vscode-notebook-cell:/Users/markusswegmark/Desktop/Git%20Repos/numme_labb_3/Untitled.ipynb#X23sZmlsZQ%3D%3D?line=10'>11</a>\u001b[0m \u001b[39mreturn\u001b[39;00m vec\n",
      "\u001b[0;31mIndexError\u001b[0m: index 1 is out of bounds for axis 0 with size 1"
     ]
    }
   ],
   "source": [
    "T = 1\n",
    "K = 1.22\n",
    "std_dev = var = 0.2\n",
    "s_0 = [1,1]\n",
    "N = 3\n",
    "\n",
    "a = BS_rainbow(T,std_dev,K,s_0,N)"
   ]
  }
 ],
 "metadata": {
  "kernelspec": {
   "display_name": "Python 3",
   "language": "python",
   "name": "python3"
  },
  "language_info": {
   "codemirror_mode": {
    "name": "ipython",
    "version": 3
   },
   "file_extension": ".py",
   "mimetype": "text/x-python",
   "name": "python",
   "nbconvert_exporter": "python",
   "pygments_lexer": "ipython3",
   "version": "3.10.6"
  },
  "vscode": {
   "interpreter": {
    "hash": "b0fa6594d8f4cbf19f97940f81e996739fb7646882a419484c72d19e05852a7e"
   }
  }
 },
 "nbformat": 4,
 "nbformat_minor": 5
}
