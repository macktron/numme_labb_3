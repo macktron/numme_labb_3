{
 "cells": [
  {
   "cell_type": "code",
   "execution_count": 14,
   "id": "2975fe2c",
   "metadata": {},
   "outputs": [],
   "source": [
    "import numpy as np\n",
    "import matplotlib.pyplot as plt"
   ]
  },
  {
   "cell_type": "markdown",
   "id": "aa400d78",
   "metadata": {},
   "source": [
    "# Uppgift 1"
   ]
  },
  {
   "cell_type": "code",
   "execution_count": 15,
   "id": "8a9b8a09",
   "metadata": {},
   "outputs": [],
   "source": [
    "def trapezoidal_integration(f, a, b, n):\n",
    "    h = (b-a)/n\n",
    "    x = np.linspace(a, b, n+1)\n",
    "    y = f(x)\n",
    "    return x, y, h*(np.sum(y) - (y[0] + y[-1])/2)"
   ]
  },
  {
   "cell_type": "code",
   "execution_count": 16,
   "id": "c5a8f3e0",
   "metadata": {},
   "outputs": [],
   "source": [
    "def monte_carlo_integration(f, a, b, n):\n",
    "    x = np.random.uniform(a, b, n)\n",
    "    y = f(x)\n",
    "    return x, y, (b-a)*np.mean(y) #volume 1d = b-a "
   ]
  },
  {
   "cell_type": "code",
   "execution_count": 17,
   "id": "0068a928",
   "metadata": {},
   "outputs": [],
   "source": [
    "def f(x):\n",
    "    return (x+1)**-(1/2)"
   ]
  },
  {
   "cell_type": "code",
   "execution_count": 18,
   "id": "beda6d4e",
   "metadata": {},
   "outputs": [],
   "source": [
    "def two_plots(x1,y1,e1,x2,y2,e2):\n",
    "    plt.subplot(1, 2, 1)\n",
    "    plt.plot(x1,y1)\n",
    "    plt.axhline(y=e1, color='r', linestyle='-')\n",
    "    plt.text(0.6,e1+0.01, 'I = ' + str(round(e1,5)), color='red')\n",
    "    plt.xlabel('x')\n",
    "    plt.title('Trapezoidal Integration')\n",
    "    \n",
    "    plt.subplot(1, 2, 2)\n",
    "    plt.plot(x2,y2)\n",
    "    plt.axhline(y=e2, color='r', linestyle='-')\n",
    "    plt.text(0.6,e2+0.01, 'I = ' + str(round(e2,5)), color='red')\n",
    "    plt.xlabel('x')\n",
    "    plt.title('Monte Carlo Integration')"
   ]
  },
  {
   "cell_type": "code",
   "execution_count": 19,
   "id": "eeaae904",
   "metadata": {},
   "outputs": [
    {
     "data": {
      "image/png": "[encoded data removed]",
      "text/plain": [
       "<Figure size 432x288 with 2 Axes>"
      ]
     },
     "metadata": {
      "needs_background": "light"
     },
     "output_type": "display_data"
    }
   ],
   "source": [
    "upper_bound = 1\n",
    "lower_bound = 0\n",
    "number_of_points = 100\n",
    "\n",
    "\n",
    "a = trapezoidal_integration(f, lower_bound, upper_bound, number_of_points)\n",
    "b = monte_carlo_integration(f, lower_bound, upper_bound, number_of_points)\n",
    "\n",
    "two_plots(*(a+b))\n"
   ]
  },
  {
   "cell_type": "markdown",
   "id": "d5386eb8",
   "metadata": {},
   "source": [
    "# Uppgift 2"
   ]
  },
  {
   "cell_type": "code",
   "execution_count": 35,
   "id": "11c3e534",
   "metadata": {},
   "outputs": [],
   "source": [
    "\n",
    "def s_i(T,std_dev,K,s,N):\n",
    "    return s*np.exp(-(T/2)*std_dev**2 + std_dev*np.random.normal(0,std_dev,N))\n",
    "\n",
    "def BS_zero_intr(T,std_dev,K,s,N):\n",
    "    S_I = s_i(T,std_dev,K,s,N)\n",
    "    return np.sum(np.max(S_I - K,0))/N\n",
    "   "
   ]
  },
  {
   "cell_type": "code",
   "execution_count": 36,
   "id": "a44b17d7",
   "metadata": {},
   "outputs": [
    {
     "name": "stdout",
     "output_type": "stream",
     "text": [
      "2.2130619013720798e-06\n"
     ]
    }
   ],
   "source": [
    "T = 1\n",
    "K = 1.22\n",
    "std_dev = 0.2\n",
    "s = K\n",
    "#get max of each value in arra\n",
    "a = BS_zero_intr(T,std_dev,K,s,100000)\n",
    "print(a)"
   ]
  },
  {
   "cell_type": "markdown",
   "id": "3644950d",
   "metadata": {},
   "source": [
    "# Uppgift 3"
   ]
  },
  {
   "cell_type": "code",
   "execution_count": 44,
   "id": "6e6009df",
   "metadata": {},
   "outputs": [],
   "source": [
    "def s_i(T,std_dev,s,N):\n",
    "    S = np.zeros((len(s),N))\n",
    "    for i in range(len(s)):\n",
    "        S[i,:] = s[i]*np.exp((-T/2)*std_dev**2 + std_dev*np.random.normal(0,std_dev,N))\n",
    "    return S\n",
    "\n",
    "def vector_max(S):\n",
    "    vec = np.zeros((1,1))\n",
    "    for i in range(len(S[0])):\n",
    "        np.append(vec,np.max(S[:,i]))\n",
    "    return vec\n",
    "\n",
    "def BS_rainbow(T,std_dev,K,s_0,N):\n",
    "    \n",
    "    S_T = s_i(T,std_dev,s_0,N) #get matrix of S values\n",
    "    S_T_max = vector_max(S_T) #get max of each column\n",
    "    \n",
    "    return np.sum(S_T_max - K,0)/N\n"
   ]
  },
  {
   "cell_type": "code",
   "execution_count": 45,
   "id": "bba1fbc1",
   "metadata": {},
   "outputs": [
    {
     "name": "stdout",
     "output_type": "stream",
     "text": [
      "[-0.00122]\n"
     ]
    }
   ],
   "source": [
    "T = 1\n",
    "K = 1.22\n",
    "std_dev = var = 0.2\n",
    "s_0 = [1,4]\n",
    "N = 1000\n",
    "\n",
    "a = BS_rainbow(T,std_dev,K,s_0,N)\n",
    "print(a)"
   ]
  }
 ],
 "metadata": {
  "kernelspec": {
   "display_name": "Python 3",
   "language": "python",
   "name": "python3"
  },
  "language_info": {
   "codemirror_mode": {
    "name": "ipython",
    "version": 3
   },
   "file_extension": ".py",
   "mimetype": "text/x-python",
   "name": "python",
   "nbconvert_exporter": "python",
   "pygments_lexer": "ipython3",
   "version": "3.9.14"
  },
  "vscode": {
   "interpreter": {
    "hash": "a665b5d41d17b532ea9890333293a1b812fa0b73c9c25c950b3cedf1bebd0438"
   }
  }
 },
 "nbformat": 4,
 "nbformat_minor": 5
}
