{
 "cells": [
  {
   "cell_type": "code",
   "execution_count": 2,
   "id": "2975fe2c",
   "metadata": {},
   "outputs": [],
   "source": [
    "import numpy as np\n",
    "import matplotlib.pyplot as plt"
   ]
  },
  {
   "cell_type": "markdown",
   "id": "aa400d78",
   "metadata": {},
   "source": [
    "# Uppgift 1"
   ]
  },
  {
   "cell_type": "code",
   "execution_count": 127,
   "id": "8a9b8a09",
   "metadata": {},
   "outputs": [],
   "source": [
    "def trapezoidal_integration(f, a, b, n):\n",
    "    h = (b-a)/n\n",
    "    x = np.linspace(a, b, n+1)\n",
    "    y = f(x)\n",
    "    return x, y, h*(np.sum(y) - (y[0] + y[-1])/2)"
   ]
  },
  {
   "cell_type": "code",
   "execution_count": 128,
   "id": "c5a8f3e0",
   "metadata": {},
   "outputs": [],
   "source": [
    "def monte_carlo_integration(f, a, b, n):\n",
    "    x = np.random.uniform(a, b, n)\n",
    "    y = f(x)\n",
    "    return x, y, (b-a)*np.mean(y) #volume 1d = b-a "
   ]
  },
  {
   "cell_type": "code",
   "execution_count": 129,
   "id": "0068a928",
   "metadata": {},
   "outputs": [],
   "source": [
    "def f(x):\n",
    "    return (x+1)**-(1/2)"
   ]
  },
  {
   "cell_type": "code",
   "execution_count": 130,
   "id": "beda6d4e",
   "metadata": {},
   "outputs": [],
   "source": [
    "def two_subplots(x1,y1,e1,x2,y2,e2):\n",
    "    plt.subplot(1, 2, 1)\n",
    "    plt.plot(x1,y1)\n",
    "    plt.axhline(y=e1, color='r', linestyle='-')\n",
    "    plt.text(0.6,e1+0.01, 'I = ' + str(round(e1,5)), color='red')\n",
    "    plt.title('Trapezoidal Integration')\n",
    "    \n",
    "    plt.subplot(1, 2, 2)\n",
    "    plt.plot(x2,y2)\n",
    "    plt.axhline(y=e2, color='r', linestyle='-')\n",
    "    plt.text(0.6,e2+0.01, 'I = ' + str(round(e2,5)), color='red')\n",
    "    plt.title('Monte Carlo Integration')"
   ]
  },
  {
   "cell_type": "code",
   "execution_count": 131,
   "id": "eeaae904",
   "metadata": {},
   "outputs": [
    {
     "data": {
      "image/png": "[encoded data removed]",
      "text/plain": [
       "<Figure size 432x288 with 2 Axes>"
      ]
     },
     "metadata": {
      "needs_background": "light"
     },
     "output_type": "display_data"
    }
   ],
   "source": [
    "upper_bound = 1\n",
    "lower_bound = 0\n",
    "number_of_points = 100\n",
    "\n",
    "\n",
    "a = trapezoidal_integration(f, lower_bound, upper_bound, number_of_points)\n",
    "b = monte_carlo_integration(f, lower_bound, upper_bound, number_of_points)\n",
    "\n",
    "two_subplots(*(a+b))"
   ]
  },
  {
   "cell_type": "markdown",
   "id": "d5386eb8",
   "metadata": {},
   "source": [
    "# Uppgift 2"
   ]
  },
  {
   "cell_type": "code",
   "execution_count": 203,
   "id": "11c3e534",
   "metadata": {},
   "outputs": [],
   "source": [
    "def s_i(T,volatility,s,N):\n",
    "    return s*np.exp(-(T/2)*volatility**2 + volatility*np.random.normal(0,T,N))\n",
    "\n",
    "def max_vector_sum(S_I,K):\n",
    "    sum = 0\n",
    "    for i in range(len(S_I)):\n",
    "        sum += max(S_I[i] - K,0)\n",
    "    return sum\n",
    "\n",
    "def BS_solver(T,volatility,K,s,N):\n",
    "    S_I = s_i(T,volatility,s,N)\n",
    "    return max_vector_sum(S_I,K)/N"
   ]
  },
  {
   "cell_type": "code",
   "execution_count": 205,
   "id": "a44b17d7",
   "metadata": {},
   "outputs": [
    {
     "name": "stdout",
     "output_type": "stream",
     "text": [
      "0.09683986101578877\n"
     ]
    }
   ],
   "source": [
    "fixed_time = 1                  #t\n",
    "volatility = 0.2                #sigma\n",
    "fixed_price = 1.22              #K  \n",
    "current_price = fixed_price     #s\n",
    "\n",
    "a = BS_solver(fixed_time,volatility,fixed_price,current_price,100000)\n",
    "print(a)"
   ]
  },
  {
   "cell_type": "markdown",
   "id": "3644950d",
   "metadata": {},
   "source": [
    "# Uppgift 3"
   ]
  },
  {
   "cell_type": "code",
   "execution_count": 134,
   "id": "6e6009df",
   "metadata": {},
   "outputs": [],
   "source": [
    "def s_i(T,std_dev,s,N):\n",
    "    S = np.zeros((len(s),N))\n",
    "    for i in range(len(s)):\n",
    "        S[i,:] = s[i]*np.exp((-T/2)*std_dev**2 + std_dev*np.random.normal(0,std_dev,N))\n",
    "    return S\n",
    "\n",
    "def vector_max(S):\n",
    "    return np.max(S, axis=0) \n",
    "\n",
    "def max_vector_sum(S_I,K):\n",
    "    sum = 0\n",
    "    for i in range(len(S_I)):\n",
    "        sum += max(S_I[i] - K,0)\n",
    "    return sum\n",
    "\n",
    "def BS_rainbow(T,std_dev,K,s_0,N):\n",
    "    S_T = s_i(T,std_dev,s_0,N)\n",
    "    S_T_max = vector_max(S_T)\n",
    "    return max_vector_sum(S_T_max,K)/(N**len(s_0))\n"
   ]
  },
  {
   "cell_type": "code",
   "execution_count": 135,
   "id": "bba1fbc1",
   "metadata": {},
   "outputs": [
    {
     "name": "stdout",
     "output_type": "stream",
     "text": [
      "0.002700113344820529\n"
     ]
    }
   ],
   "source": [
    "fixed_time = 1                  #T\n",
    "fixed_price = 1.22              #k\n",
    "volatility  = 0.2               #sigma\n",
    "current_price = [1,4]           #s_0\n",
    "numer_of_iterations = 1000      #N\n",
    "\n",
    "a = BS_rainbow(fixed_time,volatility,fixed_price,current_price,numer_of_iterations)\n",
    "print(a)"
   ]
  },
  {
   "attachments": {},
   "cell_type": "markdown",
   "id": "58bd09e1",
   "metadata": {},
   "source": [
    "# Uppgift 4\n"
   ]
  },
  {
   "attachments": {},
   "cell_type": "markdown",
   "id": "2b8bf493",
   "metadata": {},
   "source": [
    "**black-schouls med nollränta fås av**\n",
    "\n",
    "### $\\frac{\\partial f(s,t)}{\\partial t} + \\frac{\\sigma^2 s^2}{2} \\frac{\\partial^2 f(s,t)}{\\partial t^2} = 0$"
   ]
  },
  {
   "attachments": {},
   "cell_type": "markdown",
   "id": "889c960d",
   "metadata": {},
   "source": [
    "**då $(s,t) = (m\\Delta s,n\\Delta t)$ får vi vidare med finit differensmetod**\n",
    "\n",
    "### $\\frac{\\partial f(m\\Delta s, n\\Delta t)}{\\partial \\Delta t} + \\frac{(\\sigma {m \\Delta s})^2}{2} \\frac{\\partial^2 f(m\\Delta s, n\\Delta t)}{\\partial \\Delta t^2}$"
   ]
  },
  {
   "attachments": {},
   "cell_type": "markdown",
   "id": "580c0e41",
   "metadata": {},
   "source": [
    "**För mindre värden på $\\Delta s, \\Delta t$ kan vi skriva**"
   ]
  },
  {
   "attachments": {},
   "cell_type": "markdown",
   "id": "69e2ed56",
   "metadata": {},
   "source": [
    "### $\\frac{\\partial f(m\\Delta s, n\\Delta t)}{\\partial \\Delta t} \\approx \\frac{f(m\\Delta s, n\\Delta t + \\Delta t ) - f(m\\Delta s, n\\Delta t )}{\\Delta t}  \\approx \\frac{f(m\\Delta s, n\\Delta t ) - f(m\\Delta s, n\\Delta t - \\Delta t)}{\\Delta t} = \\frac{f(m\\Delta s, n\\Delta t ) - f(m\\Delta s, (n - 1) \\Delta t)}{\\Delta t}$"
   ]
  },
  {
   "attachments": {},
   "cell_type": "markdown",
   "id": "f9e592c6",
   "metadata": {},
   "source": [
    "### $\\frac{\\partial f^2(m\\Delta s, n\\Delta t)}{\\partial \\Delta s^2} \\approx \\frac{f(m\\Delta s + \\Delta s, n\\Delta t) - 2f(m\\Delta s, n\\Delta t) - f(m\\Delta s - \\Delta s, n\\Delta t)}{\\Delta t} = \\frac{f((m + 1)\\Delta s , n\\Delta t) - 2f(m\\Delta s, n\\Delta t) - f((m - 1)\\Delta s, n\\Delta t)}{\\Delta t}$"
   ]
  },
  {
   "attachments": {},
   "cell_type": "markdown",
   "id": "8973d72e",
   "metadata": {},
   "source": [
    "**Med felen** "
   ]
  },
  {
   "attachments": {},
   "cell_type": "markdown",
   "id": "8ebd9c22",
   "metadata": {},
   "source": [
    "$e_{\\Delta s} = c_{\\Delta s} \\Delta s ^2$ "
   ]
  },
  {
   "attachments": {},
   "cell_type": "markdown",
   "id": "1fb20bd3",
   "metadata": {},
   "source": [
    "$e_{\\Delta t} = c_{\\Delta t} \\Delta t ^2$"
   ]
  },
  {
   "attachments": {},
   "cell_type": "markdown",
   "id": "02a085b7",
   "metadata": {},
   "source": [
    "**Om vi fixar $\\Delta S$ samt $\\Delta t$ fås:**"
   ]
  },
  {
   "attachments": {},
   "cell_type": "markdown",
   "id": "897cccf0",
   "metadata": {},
   "source": [
    "$\\tilde{f}(m,n) := f(m\\Delta s,n\\Delta t)$"
   ]
  },
  {
   "attachments": {},
   "cell_type": "markdown",
   "id": "1f69bc00",
   "metadata": {},
   "source": [
    "**Insättning i Black-Schoels med nollränta ger:**"
   ]
  },
  {
   "attachments": {},
   "cell_type": "markdown",
   "id": "570f1311",
   "metadata": {},
   "source": [
    "### $\\frac{\\tilde{f}(m, n ) - \\tilde{f}(m, n - 1)}{\\Delta t}  + \\frac{(\\sigma {m \\Delta s})^2}{2} \\frac{\\tilde{f}(m + 1 , n) - 2\\tilde{f}(m, n) - \\tilde{f}(m - 1 , n)}{(\\Delta s) ^2 } = 0 $\n"
   ]
  },
  {
   "attachments": {},
   "cell_type": "markdown",
   "id": "74741530",
   "metadata": {},
   "source": [
    "### $\\{ m\\Delta s = s \\}$,$\\quad \\{ \\alpha = \\frac{(\\sigma {s})^2}{2} \\}$"
   ]
  },
  {
   "attachments": {},
   "cell_type": "markdown",
   "id": "557bc749",
   "metadata": {},
   "source": [
    "### $\\implies \\frac{\\tilde{f}(m, n ) - \\tilde{f}(m, n - 1)}{\\Delta t}  + \\alpha \\frac{\\tilde{f}(m + 1 , n) - 2\\tilde{f}(m, n) - \\tilde{f}(m - 1 , n)}{(\\Delta s) ^2 } = 0$"
   ]
  },
  {
   "attachments": {},
   "cell_type": "markdown",
   "id": "3fea24b9",
   "metadata": {},
   "source": [
    "# Uppgift 5"
   ]
  },
  {
   "attachments": {},
   "cell_type": "markdown",
   "id": "a320f166",
   "metadata": {},
   "source": [
    "**Vi skriver om:**\n",
    "\n",
    " ### $\\frac{\\tilde{f}(m, n ) - \\tilde{f}(m, n - 1)}{\\Delta t}  + \\alpha \\frac{\\tilde{f}(m + 1 , n) - 2\\tilde{f}(m, n) - \\tilde{f}(m - 1 , n)}{(\\Delta s) ^2 } = 0 $\n",
    " ### $\\implies \\tilde{f}(m, n - 1 ) =  \\tilde{f}(m, n)  +  \\Delta t \\alpha \\frac{\\tilde{f}(m + 1 , n) - 2\\tilde{f}(m, n) - \\tilde{f}(m - 1 , n)}{(\\Delta s) ^2 }$"
   ]
  },
  {
   "attachments": {},
   "cell_type": "markdown",
   "id": "0d498252",
   "metadata": {},
   "source": [
    "**Eftersom vi har att:**"
   ]
  },
  {
   "attachments": {},
   "cell_type": "markdown",
   "id": "c39e960b",
   "metadata": {},
   "source": [
    "$\\tilde{f}(m,N) = max(K - m\\Delta s,o) $"
   ]
  },
  {
   "attachments": {},
   "cell_type": "markdown",
   "id": "f49f66f6",
   "metadata": {},
   "source": [
    "$n \\in \\{[0, N] \\cap \\mathbf{N}\\}$"
   ]
  },
  {
   "attachments": {},
   "cell_type": "markdown",
   "id": "8dccb8a7",
   "metadata": {},
   "source": [
    "$s_1 \\le m \\Delta s \\le s_2$"
   ]
  },
  {
   "attachments": {},
   "cell_type": "markdown",
   "id": "7ed7144c",
   "metadata": {},
   "source": [
    "**Vi noterar vi att vi har värmeekvationen vilken ger stabilitet då:**"
   ]
  },
  {
   "attachments": {},
   "cell_type": "markdown",
   "id": "afbe9a8f",
   "metadata": {},
   "source": [
    "### $\\frac{\\alpha \\Delta t}{\\Delta s^2} = \\frac{(\\sigma {s})^2}{2} \\frac{ \\Delta t}{\\Delta s^2}   \\le \\frac{1}{2} \\implies \\Delta t \\le  (\\frac{\\Delta s}{\\sigma s})^2 $"
   ]
  },
  {
   "attachments": {},
   "cell_type": "markdown",
   "id": "14dd31cd",
   "metadata": {},
   "source": [
    "### $\\Delta s = \\frac{s}{m} = \\frac{s_2}{m_{total}}$"
   ]
  },
  {
   "attachments": {},
   "cell_type": "markdown",
   "id": "d24b5556",
   "metadata": {},
   "source": [
    "### $\\implies \\Delta t \\le \\frac{1}{(m_{total}\\sigma)^2} $"
   ]
  },
  {
   "attachments": {},
   "cell_type": "markdown",
   "id": "8a5143e4",
   "metadata": {},
   "source": [
    "**Med randvärdena:**"
   ]
  },
  {
   "attachments": {},
   "cell_type": "markdown",
   "id": "6ff701d3",
   "metadata": {},
   "source": [
    "**$f(0,t) = k$**"
   ]
  },
  {
   "attachments": {},
   "cell_type": "markdown",
   "id": "7b951d92",
   "metadata": {},
   "source": [
    "**$f(\\alpha K, t) = 0$**"
   ]
  },
  {
   "attachments": {},
   "cell_type": "markdown",
   "id": "90c3ea99",
   "metadata": {},
   "source": [
    "**Kan vi bestämma $f(s_1,t)$ och $f(s_2,t)$,   $\\forall t \\in \\{[0, T] \\cap \\mathbf{N}\\}$ genom att iterera över tid baklänges samt över alla $s_1 \\le s \\le s_2$**"
   ]
  },
  {
   "cell_type": "code",
   "execution_count": 14,
   "id": "5b7a12d8",
   "metadata": {},
   "outputs": [],
   "source": [
    "def get_initial_values(K,m_tot,ds):\n",
    "    inital_value = np.empty(m_tot+2)\n",
    "    inital_value[0] = 0\n",
    "    inital_value[-1] = 0\n",
    "    for i in range(1,m_tot+1):\n",
    "        inital_value[i] = max(K-ds*i,0)\n",
    "    return inital_value\n",
    "\n",
    "def BS_difference_method_solver(T,s_2,K,sigma,m_tot,ds,dt):\n",
    "    solution = np.zeros((m_tot+2,T))\n",
    "    initial_values = get_initial_values(K,m_tot,ds)\n",
    "    top_boundary_values = np.zeros(T)\n",
    "    top_boundary_values.fill(K)\n",
    "    bottom_boundary_values = np.zeros(T)\n",
    "    bottom_boundary_values.fill(0)\n",
    "    \n",
    "    solution[:,-1] = initial_values\n",
    "    solution[-1,:] = bottom_boundary_values\n",
    "    solution[0,:] = top_boundary_values\n",
    "    for t in range(T-1,0,-1):\n",
    "        for s in range(1 ,m_tot+1):\n",
    "            solution[s,t-1] = solution[s,t] + ((s/ds)*sigma**2)/2*(solution[s+1,t] - 2*solution[s,t] + solution[s-1,t])\n",
    "\n",
    "    return solution"
   ]
  },
  {
   "cell_type": "code",
   "execution_count": 15,
   "id": "555880ca",
   "metadata": {},
   "outputs": [
    {
     "name": "stdout",
     "output_type": "stream",
     "text": [
      "[[ 1.          1.          1.          1.          1.        ]\n",
      " [ 0.85        0.85        0.85        0.85        0.85      ]\n",
      " [ 0.7         0.7         0.7         0.7         0.7       ]\n",
      " [ 0.55568889  0.55        0.55        0.55        0.55      ]\n",
      " [ 0.42654815  0.41422222  0.4         0.4         0.4       ]\n",
      " [ 0.27346667  0.30155556  0.27666667  0.25        0.25      ]\n",
      " [ 0.33537778  0.14675556  0.19066667  0.14        0.1       ]\n",
      " [-0.11614815  0.22773333  0.04977778  0.09333333  0.        ]\n",
      " [ 0.43804444 -0.05973333  0.09955556  0.          0.        ]\n",
      " [-0.23893333  0.11946667  0.          0.          0.        ]\n",
      " [ 0.15928889  0.          0.          0.          0.        ]\n",
      " [ 0.          0.          0.          0.          0.        ]]\n"
     ]
    }
   ],
   "source": [
    "price_steps = 10                            #m_tot\n",
    "fixed_price = 1                             #k\n",
    "upper_price_limit = 1.5*fixed_price         #s_2\n",
    "fixed_time = 5                              #T\n",
    "volatility  = 0.2                           #sigma\n",
    "delta_s = upper_price_limit/price_steps     #ds\n",
    "delta_t =  (1/(price_steps*volatility))**2   #dt\n",
    "\n",
    "solution = BS_difference_method_solver(fixed_time,upper_price_limit,fixed_price,volatility,price_steps,delta_s,delta_t)\n",
    "print(solution)"
   ]
  },
  {
   "cell_type": "code",
   "execution_count": 258,
   "id": "09d94b55",
   "metadata": {},
   "outputs": [],
   "source": [
    "#plot that plots one line for each row in the solution matrix\n",
    "def plot_solution(solution):\n",
    "    for i in range(len(solution)):\n",
    "        plt.plot(solution[i,:])\n",
    "    plt.show()"
   ]
  },
  {
   "cell_type": "code",
   "execution_count": 260,
   "id": "35e9a7e2",
   "metadata": {},
   "outputs": [
    {
     "data": {
      "image/png": "[encoded data removed]",
      "text/plain": [
       "<Figure size 432x288 with 1 Axes>"
      ]
     },
     "metadata": {
      "needs_background": "light"
     },
     "output_type": "display_data"
    }
   ],
   "source": [
    "plot_solution(solution)"
   ]
  },
  {
   "cell_type": "markdown",
   "id": "0021040b",
   "metadata": {},
   "source": []
  },
  {
   "cell_type": "code",
   "execution_count": 7,
   "id": "0d6bd900",
   "metadata": {},
   "outputs": [
    {
     "name": "stdout",
     "output_type": "stream",
     "text": [
      "[0.   0.25 0.5  0.75 1.  ]\n"
     ]
    },
    {
     "ename": "TypeError",
     "evalue": "'float' object cannot be interpreted as an integer",
     "output_type": "error",
     "traceback": [
      "\u001b[0;31m---------------------------------------------------------------------------\u001b[0m",
      "\u001b[0;31mTypeError\u001b[0m                                 Traceback (most recent call last)",
      "\u001b[1;32m/Users/markusswegmark/Desktop/Git Repos/numme_labb_3/labb3_notebook.ipynb Cell 48\u001b[0m in \u001b[0;36m<cell line: 3>\u001b[0;34m()\u001b[0m\n\u001b[1;32m      <a href='vscode-notebook-cell:/Users/markusswegmark/Desktop/Git%20Repos/numme_labb_3/labb3_notebook.ipynb#X65sZmlsZQ%3D%3D?line=0'>1</a>\u001b[0m ar \u001b[39m=\u001b[39m np\u001b[39m.\u001b[39mlinspace(\u001b[39m0\u001b[39m,\u001b[39m1\u001b[39m,\u001b[39m5\u001b[39m)\n\u001b[1;32m      <a href='vscode-notebook-cell:/Users/markusswegmark/Desktop/Git%20Repos/numme_labb_3/labb3_notebook.ipynb#X65sZmlsZQ%3D%3D?line=1'>2</a>\u001b[0m \u001b[39mprint\u001b[39m(ar)\n\u001b[0;32m----> <a href='vscode-notebook-cell:/Users/markusswegmark/Desktop/Git%20Repos/numme_labb_3/labb3_notebook.ipynb#X65sZmlsZQ%3D%3D?line=2'>3</a>\u001b[0m maxar \u001b[39m=\u001b[39m np\u001b[39m.\u001b[39;49mmax(ar,\u001b[39m0.5\u001b[39;49m)\n\u001b[1;32m      <a href='vscode-notebook-cell:/Users/markusswegmark/Desktop/Git%20Repos/numme_labb_3/labb3_notebook.ipynb#X65sZmlsZQ%3D%3D?line=3'>4</a>\u001b[0m \u001b[39mprint\u001b[39m(maxar)\n",
      "File \u001b[0;32m<__array_function__ internals>:180\u001b[0m, in \u001b[0;36mamax\u001b[0;34m(*args, **kwargs)\u001b[0m\n",
      "File \u001b[0;32m/opt/homebrew/lib/python3.9/site-packages/numpy/core/fromnumeric.py:2793\u001b[0m, in \u001b[0;36mamax\u001b[0;34m(a, axis, out, keepdims, initial, where)\u001b[0m\n\u001b[1;32m   2677\u001b[0m \u001b[39m@array_function_dispatch\u001b[39m(_amax_dispatcher)\n\u001b[1;32m   2678\u001b[0m \u001b[39mdef\u001b[39;00m \u001b[39mamax\u001b[39m(a, axis\u001b[39m=\u001b[39m\u001b[39mNone\u001b[39;00m, out\u001b[39m=\u001b[39m\u001b[39mNone\u001b[39;00m, keepdims\u001b[39m=\u001b[39mnp\u001b[39m.\u001b[39m_NoValue, initial\u001b[39m=\u001b[39mnp\u001b[39m.\u001b[39m_NoValue,\n\u001b[1;32m   2679\u001b[0m          where\u001b[39m=\u001b[39mnp\u001b[39m.\u001b[39m_NoValue):\n\u001b[1;32m   2680\u001b[0m     \u001b[39m\"\"\"\u001b[39;00m\n\u001b[1;32m   2681\u001b[0m \u001b[39m    Return the maximum of an array or maximum along an axis.\u001b[39;00m\n\u001b[1;32m   2682\u001b[0m \n\u001b[0;32m   (...)\u001b[0m\n\u001b[1;32m   2791\u001b[0m \u001b[39m    5\u001b[39;00m\n\u001b[1;32m   2792\u001b[0m \u001b[39m    \"\"\"\u001b[39;00m\n\u001b[0;32m-> 2793\u001b[0m     \u001b[39mreturn\u001b[39;00m _wrapreduction(a, np\u001b[39m.\u001b[39;49mmaximum, \u001b[39m'\u001b[39;49m\u001b[39mmax\u001b[39;49m\u001b[39m'\u001b[39;49m, axis, \u001b[39mNone\u001b[39;49;00m, out,\n\u001b[1;32m   2794\u001b[0m                           keepdims\u001b[39m=\u001b[39;49mkeepdims, initial\u001b[39m=\u001b[39;49minitial, where\u001b[39m=\u001b[39;49mwhere)\n",
      "File \u001b[0;32m/opt/homebrew/lib/python3.9/site-packages/numpy/core/fromnumeric.py:86\u001b[0m, in \u001b[0;36m_wrapreduction\u001b[0;34m(obj, ufunc, method, axis, dtype, out, **kwargs)\u001b[0m\n\u001b[1;32m     83\u001b[0m         \u001b[39melse\u001b[39;00m:\n\u001b[1;32m     84\u001b[0m             \u001b[39mreturn\u001b[39;00m reduction(axis\u001b[39m=\u001b[39maxis, out\u001b[39m=\u001b[39mout, \u001b[39m*\u001b[39m\u001b[39m*\u001b[39mpasskwargs)\n\u001b[0;32m---> 86\u001b[0m \u001b[39mreturn\u001b[39;00m ufunc\u001b[39m.\u001b[39;49mreduce(obj, axis, dtype, out, \u001b[39m*\u001b[39;49m\u001b[39m*\u001b[39;49mpasskwargs)\n",
      "\u001b[0;31mTypeError\u001b[0m: 'float' object cannot be interpreted as an integer"
     ]
    }
   ],
   "source": [
    "ar = np.linspace(0,1,5)\n",
    "print(ar)\n",
    "maxar = np.max(ar,0.5)\n",
    "print(maxar)"
   ]
  }
 ],
 "metadata": {
  "kernelspec": {
   "display_name": "Python 3",
   "language": "python",
   "name": "python3"
  },
  "language_info": {
   "codemirror_mode": {
    "name": "ipython",
    "version": 3
   },
   "file_extension": ".py",
   "mimetype": "text/x-python",
   "name": "python",
   "nbconvert_exporter": "python",
   "pygments_lexer": "ipython3",
   "version": "3.9.14"
  },
  "vscode": {
   "interpreter": {
    "hash": "a665b5d41d17b532ea9890333293a1b812fa0b73c9c25c950b3cedf1bebd0438"
   }
  }
 },
 "nbformat": 4,
 "nbformat_minor": 5
}
